{
  "cells": [
    {
      "cell_type": "code",
      "execution_count": null,
      "metadata": {
        "id": "WVkRgSX6E4Ud",
        "colab": {
          "base_uri": "https://localhost:8080/"
        },
        "outputId": "e591e19b-f5a8-4476-887a-5d5efeb8364f"
      },
      "outputs": [
        {
          "output_type": "stream",
          "name": "stdout",
          "text": [
            "--2024-11-18 09:49:06--  https://www.nuscenes.org/data/v1.0-mini.tgz\n",
            "Resolving www.nuscenes.org (www.nuscenes.org)... 13.225.205.36, 13.225.205.104, 13.225.205.7, ...\n",
            "Connecting to www.nuscenes.org (www.nuscenes.org)|13.225.205.36|:443... connected.\n",
            "HTTP request sent, awaiting response... 200 OK\n",
            "Length: 4167696325 (3.9G) [application/x-tar]\n",
            "Saving to: ‘v1.0-mini.tgz.1’\n",
            "\n",
            "v1.0-mini.tgz.1     100%[===================>]   3.88G  75.8MB/s    in 53s     \n",
            "\n",
            "2024-11-18 09:50:00 (75.1 MB/s) - ‘v1.0-mini.tgz.1’ saved [4167696325/4167696325]\n",
            "\n"
          ]
        }
      ],
      "source": [
        "!mkdir -p /data/sets/nuscenes  # Make the directory to store the nuScenes dataset in.\n",
        "\n",
        "!wget https://www.nuscenes.org/data/v1.0-mini.tgz  # Download the nuScenes mini split.\n",
        "\n",
        "!tar -xf v1.0-mini.tgz -C /data/sets/nuscenes  # Uncompress the nuScenes mini split.\n",
        "\n",
        "!pip install nuscenes-devkit &> /dev/null  # Install nuScenes."
      ]
    },
    {
      "cell_type": "code",
      "source": [
        "%matplotlib inline\n",
        "from nuscenes.nuscenes import NuScenes\n",
        "\n",
        "nusc = NuScenes(version='v1.0-mini', dataroot='/data/sets/nuscenes', verbose=True)"
      ],
      "metadata": {
        "colab": {
          "base_uri": "https://localhost:8080/"
        },
        "id": "DJ3xbsNIVwZD",
        "outputId": "8d48a6fc-6587-4605-9988-ffba7a25815e"
      },
      "execution_count": null,
      "outputs": [
        {
          "output_type": "stream",
          "name": "stdout",
          "text": [
            "======\n",
            "Loading NuScenes tables for version v1.0-mini...\n",
            "23 category,\n",
            "8 attribute,\n",
            "4 visibility,\n",
            "911 instance,\n",
            "12 sensor,\n",
            "120 calibrated_sensor,\n",
            "31206 ego_pose,\n",
            "8 log,\n",
            "10 scene,\n",
            "404 sample,\n",
            "31206 sample_data,\n",
            "18538 sample_annotation,\n",
            "4 map,\n",
            "Done loading in 3.351 seconds.\n",
            "======\n",
            "Reverse indexing ...\n",
            "Done reverse indexing in 0.4 seconds.\n",
            "======\n"
          ]
        }
      ]
    },
    {
      "cell_type": "code",
      "source": [
        "nusc.list_scenes()"
      ],
      "metadata": {
        "colab": {
          "base_uri": "https://localhost:8080/"
        },
        "id": "yKSrquVTV7ql",
        "outputId": "2eb6a3ac-6b50-45b9-f09b-93f025f744f0"
      },
      "execution_count": null,
      "outputs": [
        {
          "output_type": "stream",
          "name": "stdout",
          "text": [
            "scene-0061, Parked truck, construction, intersectio... [18-07-24 03:28:47]   19s, singapore-onenorth, #anns:4622\n",
            "scene-0103, Many peds right, wait for turning car, ... [18-08-01 19:26:43]   19s, boston-seaport, #anns:2046\n",
            "scene-0655, Parking lot, parked cars, jaywalker, be... [18-08-27 15:51:32]   20s, boston-seaport, #anns:2332\n",
            "scene-0553, Wait at intersection, bicycle, large tr... [18-08-28 20:48:16]   20s, boston-seaport, #anns:1950\n",
            "scene-0757, Arrive at busy intersection, bus, wait ... [18-08-30 19:25:08]   20s, boston-seaport, #anns:592\n",
            "scene-0796, Scooter, peds on sidewalk, bus, cars, t... [18-10-02 02:52:24]   20s, singapore-queensto, #anns:708\n",
            "scene-0916, Parking lot, bicycle rack, parked bicyc... [18-10-08 07:37:13]   20s, singapore-queensto, #anns:2387\n",
            "scene-1077, Night, big street, bus stop, high speed... [18-11-21 11:39:27]   20s, singapore-hollandv, #anns:890\n",
            "scene-1094, Night, after rain, many peds, PMD, ped ... [18-11-21 11:47:27]   19s, singapore-hollandv, #anns:1762\n",
            "scene-1100, Night, peds in sidewalk, peds cross cro... [18-11-21 11:49:47]   19s, singapore-hollandv, #anns:935\n"
          ]
        }
      ]
    },
    {
      "cell_type": "code",
      "source": [
        "my_scene = nusc.scene[0]\n",
        "my_scene"
      ],
      "metadata": {
        "colab": {
          "base_uri": "https://localhost:8080/"
        },
        "id": "XhSVdk5jqXv9",
        "outputId": "a836b805-0837-4408-b371-17d1b61c9bff"
      },
      "execution_count": null,
      "outputs": [
        {
          "output_type": "execute_result",
          "data": {
            "text/plain": [
              "{'token': 'cc8c0bf57f984915a77078b10eb33198',\n",
              " 'log_token': '7e25a2c8ea1f41c5b0da1e69ecfa71a2',\n",
              " 'nbr_samples': 39,\n",
              " 'first_sample_token': 'ca9a282c9e77460f8360f564131a8af5',\n",
              " 'last_sample_token': 'ed5fc18c31904f96a8f0dbb99ff069c0',\n",
              " 'name': 'scene-0061',\n",
              " 'description': 'Parked truck, construction, intersection, turn left, following a van'}"
            ]
          },
          "metadata": {},
          "execution_count": 12
        }
      ]
    },
    {
      "cell_type": "code",
      "source": [
        "first_sample_token = my_scene['first_sample_token']\n",
        "print(type(first_sample_token))"
      ],
      "metadata": {
        "colab": {
          "base_uri": "https://localhost:8080/"
        },
        "id": "RbJ9ljaJqZ7b",
        "outputId": "dfb54a8e-825a-494a-d747-121e6c6247d9"
      },
      "execution_count": null,
      "outputs": [
        {
          "output_type": "stream",
          "name": "stdout",
          "text": [
            "<class 'str'>\n"
          ]
        }
      ]
    },
    {
      "cell_type": "code",
      "source": [
        "my_sample = nusc.get('sample', first_sample_token)\n",
        "print(type(my_sample))\n",
        "print(my_sample)"
      ],
      "metadata": {
        "colab": {
          "base_uri": "https://localhost:8080/"
        },
        "id": "0UMVPShlsZVz",
        "outputId": "43319342-e68b-428a-ad45-14baba2da56f"
      },
      "execution_count": null,
      "outputs": [
        {
          "output_type": "stream",
          "name": "stdout",
          "text": [
            "<class 'dict'>\n",
            "{'token': 'ca9a282c9e77460f8360f564131a8af5', 'timestamp': 1532402927647951, 'prev': '', 'next': '39586f9d59004284a7114a68825e8eec', 'scene_token': 'cc8c0bf57f984915a77078b10eb33198', 'data': {'RADAR_FRONT': '37091c75b9704e0daa829ba56dfa0906', 'RADAR_FRONT_LEFT': '11946c1461d14016a322916157da3c7d', 'RADAR_FRONT_RIGHT': '491209956ee3435a9ec173dad3aaf58b', 'RADAR_BACK_LEFT': '312aa38d0e3e4f01b3124c523e6f9776', 'RADAR_BACK_RIGHT': '07b30d5eb6104e79be58eadf94382bc1', 'LIDAR_TOP': '9d9bf11fb0e144c8b446d54a8a00184f', 'CAM_FRONT': 'e3d495d4ac534d54b321f50006683844', 'CAM_FRONT_RIGHT': 'aac7867ebf4f446395d29fbd60b63b3b', 'CAM_BACK_RIGHT': '79dbb4460a6b40f49f9c150cb118247e', 'CAM_BACK': '03bea5763f0f4722933508d5999c5fd8', 'CAM_BACK_LEFT': '43893a033f9c46d4a51b5e08a67a1eb7', 'CAM_FRONT_LEFT': 'fe5422747a7d4268a4b07fc396707b23'}, 'anns': ['ef63a697930c4b20a6b9791f423351da', '6b89da9bf1f84fd6a5fbe1c3b236f809', '924ee6ac1fed440a9d9e3720aac635a0', '91e3608f55174a319246f361690906ba', 'cd051723ed9c40f692b9266359f547af', '36d52dfedd764b27863375543c965376', '70af124fceeb433ea73a79537e4bea9e', '63b89fe17f3e41ecbe28337e0e35db8e', 'e4a3582721c34f528e3367f0bda9485d', 'fcb2332977ed4203aa4b7e04a538e309', 'a0cac1c12246451684116067ae2611f6', '02248ff567e3497c957c369dc9a1bd5c', '9db977e264964c2887db1e37113cddaa', 'ca9c5dd6cf374aa980fdd81022f016fd', '179b8b54ee74425893387ebc09ee133d', '5b990ac640bf498ca7fd55eaf85d3e12', '16140fbf143d4e26a4a7613cbd3aa0e8', '54939f11a73d4398b14aeef500bf0c23', '83d881a6b3d94ef3a3bc3b585cc514f8', '74986f1604f047b6925d409915265bf7', 'e86330c5538c4858b8d3ffe874556cc5', 'a7bd5bb89e27455bbb3dba89a576b6a1', 'fbd9d8c939b24f0eb6496243a41e8c41', '198023a1fb5343a5b6fad033ab8b7057', 'ffeafb90ecd5429cba23d0be9a5b54ee', 'cc636a58e27e446cbdd030c14f3718fd', '076a7e3ec6244d3b84e7df5ebcbac637', '0603fbaef1234c6c86424b163d2e3141', 'd76bd5dcc62f4c57b9cece1c7bcfabc5', '5acb6c71bcd64aa188804411b28c4c8f', '49b74a5f193c4759b203123b58ca176d', '77519174b48f4853a895f58bb8f98661', 'c5e9455e98bb42c0af7d1990db1df0c9', 'fcc5b4b5c4724179ab24962a39ca6d65', '791d1ca7e228433fa50b01778c32449a', '316d20eb238c43ef9ee195642dd6e3fe', 'cda0a9085607438c9b1ea87f4360dd64', 'e865152aaa194f22b97ad0078c012b21', '7962506dbc24423aa540a5e4c7083dad', '29cca6a580924b72a90b9dd6e7710d3e', 'a6f7d4bb60374f868144c5ba4431bf4c', 'f1ae3f713ba946069fa084a6b8626fbf', 'd7af8ede316546f68d4ab4f3dbf03f88', '91cb8f15ed4444e99470d43515e50c1d', 'bc638d33e89848f58c0b3ccf3900c8bb', '26fb370c13f844de9d1830f6176ebab6', '7e66fdf908d84237943c833e6c1b317a', '67c5dbb3ddcc4aff8ec5140930723c37', 'eaf2532c820740ae905bb7ed78fb1037', '3e2d17fa9aa5484d9cabc1dfca532193', 'de6bd5ffbed24aa59c8891f8d9c32c44', '9d51d699f635478fbbcd82a70396dd62', 'b7cbc6d0e80e4dfda7164871ece6cb71', '563a3f547bd64a2f9969278c5ef447fd', 'df8917888b81424f8c0670939e61d885', 'bb3ef5ced8854640910132b11b597348', 'a522ce1d7f6545d7955779f25d01783b', '1fafb2468af5481ca9967407af219c32', '05de82bdb8484623906bb9d97ae87542', 'bfedb0d85e164b7697d1e72dd971fb72', 'ca0f85b4f0d44beb9b7ff87b1ab37ff5', 'bca4bbfdef3d4de980842f28be80b3ca', 'a834fb0389a8453c810c3330e3503e16', '6c804cb7d78943b195045082c5c2d7fa', 'adf1594def9e4722b952fea33b307937', '49f76277d07541c5a584aa14c9d28754', '15a3b4d60b514db5a3468e2aef72a90c', '18cc2837f2b9457c80af0761a0b83ccc', '2bfcc693ae9946daba1d9f2724478fd4']}\n"
          ]
        }
      ]
    },
    {
      "cell_type": "code",
      "source": [
        "nusc.list_sample(my_sample['token'])"
      ],
      "metadata": {
        "colab": {
          "base_uri": "https://localhost:8080/"
        },
        "id": "XQApaLiRx9fn",
        "outputId": "54973409-0ed3-44f6-9681-44acc2ccf914"
      },
      "execution_count": null,
      "outputs": [
        {
          "output_type": "stream",
          "name": "stdout",
          "text": [
            "Sample: ca9a282c9e77460f8360f564131a8af5\n",
            "\n",
            "sample_data_token: 37091c75b9704e0daa829ba56dfa0906, mod: radar, channel: RADAR_FRONT\n",
            "sample_data_token: 11946c1461d14016a322916157da3c7d, mod: radar, channel: RADAR_FRONT_LEFT\n",
            "sample_data_token: 491209956ee3435a9ec173dad3aaf58b, mod: radar, channel: RADAR_FRONT_RIGHT\n",
            "sample_data_token: 312aa38d0e3e4f01b3124c523e6f9776, mod: radar, channel: RADAR_BACK_LEFT\n",
            "sample_data_token: 07b30d5eb6104e79be58eadf94382bc1, mod: radar, channel: RADAR_BACK_RIGHT\n",
            "sample_data_token: 9d9bf11fb0e144c8b446d54a8a00184f, mod: lidar, channel: LIDAR_TOP\n",
            "sample_data_token: e3d495d4ac534d54b321f50006683844, mod: camera, channel: CAM_FRONT\n",
            "sample_data_token: aac7867ebf4f446395d29fbd60b63b3b, mod: camera, channel: CAM_FRONT_RIGHT\n",
            "sample_data_token: 79dbb4460a6b40f49f9c150cb118247e, mod: camera, channel: CAM_BACK_RIGHT\n",
            "sample_data_token: 03bea5763f0f4722933508d5999c5fd8, mod: camera, channel: CAM_BACK\n",
            "sample_data_token: 43893a033f9c46d4a51b5e08a67a1eb7, mod: camera, channel: CAM_BACK_LEFT\n",
            "sample_data_token: fe5422747a7d4268a4b07fc396707b23, mod: camera, channel: CAM_FRONT_LEFT\n",
            "\n",
            "sample_annotation_token: ef63a697930c4b20a6b9791f423351da, category: human.pedestrian.adult\n",
            "sample_annotation_token: 6b89da9bf1f84fd6a5fbe1c3b236f809, category: human.pedestrian.adult\n",
            "sample_annotation_token: 924ee6ac1fed440a9d9e3720aac635a0, category: vehicle.car\n",
            "sample_annotation_token: 91e3608f55174a319246f361690906ba, category: human.pedestrian.adult\n",
            "sample_annotation_token: cd051723ed9c40f692b9266359f547af, category: movable_object.trafficcone\n",
            "sample_annotation_token: 36d52dfedd764b27863375543c965376, category: vehicle.bicycle\n",
            "sample_annotation_token: 70af124fceeb433ea73a79537e4bea9e, category: human.pedestrian.adult\n",
            "sample_annotation_token: 63b89fe17f3e41ecbe28337e0e35db8e, category: vehicle.car\n",
            "sample_annotation_token: e4a3582721c34f528e3367f0bda9485d, category: human.pedestrian.adult\n",
            "sample_annotation_token: fcb2332977ed4203aa4b7e04a538e309, category: movable_object.barrier\n",
            "sample_annotation_token: a0cac1c12246451684116067ae2611f6, category: movable_object.barrier\n",
            "sample_annotation_token: 02248ff567e3497c957c369dc9a1bd5c, category: human.pedestrian.adult\n",
            "sample_annotation_token: 9db977e264964c2887db1e37113cddaa, category: human.pedestrian.adult\n",
            "sample_annotation_token: ca9c5dd6cf374aa980fdd81022f016fd, category: human.pedestrian.adult\n",
            "sample_annotation_token: 179b8b54ee74425893387ebc09ee133d, category: human.pedestrian.adult\n",
            "sample_annotation_token: 5b990ac640bf498ca7fd55eaf85d3e12, category: movable_object.barrier\n",
            "sample_annotation_token: 16140fbf143d4e26a4a7613cbd3aa0e8, category: vehicle.car\n",
            "sample_annotation_token: 54939f11a73d4398b14aeef500bf0c23, category: human.pedestrian.adult\n",
            "sample_annotation_token: 83d881a6b3d94ef3a3bc3b585cc514f8, category: vehicle.truck\n",
            "sample_annotation_token: 74986f1604f047b6925d409915265bf7, category: vehicle.car\n",
            "sample_annotation_token: e86330c5538c4858b8d3ffe874556cc5, category: human.pedestrian.adult\n",
            "sample_annotation_token: a7bd5bb89e27455bbb3dba89a576b6a1, category: movable_object.barrier\n",
            "sample_annotation_token: fbd9d8c939b24f0eb6496243a41e8c41, category: movable_object.barrier\n",
            "sample_annotation_token: 198023a1fb5343a5b6fad033ab8b7057, category: movable_object.barrier\n",
            "sample_annotation_token: ffeafb90ecd5429cba23d0be9a5b54ee, category: movable_object.trafficcone\n",
            "sample_annotation_token: cc636a58e27e446cbdd030c14f3718fd, category: movable_object.barrier\n",
            "sample_annotation_token: 076a7e3ec6244d3b84e7df5ebcbac637, category: vehicle.bus.rigid\n",
            "sample_annotation_token: 0603fbaef1234c6c86424b163d2e3141, category: human.pedestrian.adult\n",
            "sample_annotation_token: d76bd5dcc62f4c57b9cece1c7bcfabc5, category: human.pedestrian.adult\n",
            "sample_annotation_token: 5acb6c71bcd64aa188804411b28c4c8f, category: movable_object.barrier\n",
            "sample_annotation_token: 49b74a5f193c4759b203123b58ca176d, category: human.pedestrian.adult\n",
            "sample_annotation_token: 77519174b48f4853a895f58bb8f98661, category: human.pedestrian.adult\n",
            "sample_annotation_token: c5e9455e98bb42c0af7d1990db1df0c9, category: movable_object.barrier\n",
            "sample_annotation_token: fcc5b4b5c4724179ab24962a39ca6d65, category: human.pedestrian.adult\n",
            "sample_annotation_token: 791d1ca7e228433fa50b01778c32449a, category: human.pedestrian.adult\n",
            "sample_annotation_token: 316d20eb238c43ef9ee195642dd6e3fe, category: movable_object.barrier\n",
            "sample_annotation_token: cda0a9085607438c9b1ea87f4360dd64, category: vehicle.car\n",
            "sample_annotation_token: e865152aaa194f22b97ad0078c012b21, category: movable_object.barrier\n",
            "sample_annotation_token: 7962506dbc24423aa540a5e4c7083dad, category: movable_object.barrier\n",
            "sample_annotation_token: 29cca6a580924b72a90b9dd6e7710d3e, category: human.pedestrian.adult\n",
            "sample_annotation_token: a6f7d4bb60374f868144c5ba4431bf4c, category: vehicle.car\n",
            "sample_annotation_token: f1ae3f713ba946069fa084a6b8626fbf, category: movable_object.barrier\n",
            "sample_annotation_token: d7af8ede316546f68d4ab4f3dbf03f88, category: movable_object.barrier\n",
            "sample_annotation_token: 91cb8f15ed4444e99470d43515e50c1d, category: vehicle.construction\n",
            "sample_annotation_token: bc638d33e89848f58c0b3ccf3900c8bb, category: movable_object.barrier\n",
            "sample_annotation_token: 26fb370c13f844de9d1830f6176ebab6, category: vehicle.car\n",
            "sample_annotation_token: 7e66fdf908d84237943c833e6c1b317a, category: human.pedestrian.adult\n",
            "sample_annotation_token: 67c5dbb3ddcc4aff8ec5140930723c37, category: human.pedestrian.adult\n",
            "sample_annotation_token: eaf2532c820740ae905bb7ed78fb1037, category: human.pedestrian.adult\n",
            "sample_annotation_token: 3e2d17fa9aa5484d9cabc1dfca532193, category: movable_object.trafficcone\n",
            "sample_annotation_token: de6bd5ffbed24aa59c8891f8d9c32c44, category: human.pedestrian.adult\n",
            "sample_annotation_token: 9d51d699f635478fbbcd82a70396dd62, category: human.pedestrian.adult\n",
            "sample_annotation_token: b7cbc6d0e80e4dfda7164871ece6cb71, category: vehicle.truck\n",
            "sample_annotation_token: 563a3f547bd64a2f9969278c5ef447fd, category: human.pedestrian.adult\n",
            "sample_annotation_token: df8917888b81424f8c0670939e61d885, category: human.pedestrian.adult\n",
            "sample_annotation_token: bb3ef5ced8854640910132b11b597348, category: human.pedestrian.adult\n",
            "sample_annotation_token: a522ce1d7f6545d7955779f25d01783b, category: human.pedestrian.adult\n",
            "sample_annotation_token: 1fafb2468af5481ca9967407af219c32, category: human.pedestrian.adult\n",
            "sample_annotation_token: 05de82bdb8484623906bb9d97ae87542, category: human.pedestrian.adult\n",
            "sample_annotation_token: bfedb0d85e164b7697d1e72dd971fb72, category: movable_object.pushable_pullable\n",
            "sample_annotation_token: ca0f85b4f0d44beb9b7ff87b1ab37ff5, category: movable_object.barrier\n",
            "sample_annotation_token: bca4bbfdef3d4de980842f28be80b3ca, category: movable_object.barrier\n",
            "sample_annotation_token: a834fb0389a8453c810c3330e3503e16, category: human.pedestrian.adult\n",
            "sample_annotation_token: 6c804cb7d78943b195045082c5c2d7fa, category: movable_object.barrier\n",
            "sample_annotation_token: adf1594def9e4722b952fea33b307937, category: movable_object.barrier\n",
            "sample_annotation_token: 49f76277d07541c5a584aa14c9d28754, category: vehicle.car\n",
            "sample_annotation_token: 15a3b4d60b514db5a3468e2aef72a90c, category: movable_object.barrier\n",
            "sample_annotation_token: 18cc2837f2b9457c80af0761a0b83ccc, category: movable_object.barrier\n",
            "sample_annotation_token: 2bfcc693ae9946daba1d9f2724478fd4, category: movable_object.barrier\n"
          ]
        }
      ]
    },
    {
      "cell_type": "code",
      "source": [
        "!pip install nuscenes-devkit"
      ],
      "metadata": {
        "colab": {
          "base_uri": "https://localhost:8080/"
        },
        "id": "83IiLIvc4Y05",
        "outputId": "9c2199ea-9f97-4e0a-d389-93e9dc0745e7"
      },
      "execution_count": null,
      "outputs": [
        {
          "output_type": "stream",
          "name": "stdout",
          "text": [
            "Requirement already satisfied: nuscenes-devkit in /usr/local/lib/python3.10/dist-packages (1.1.11)\n",
            "Requirement already satisfied: cachetools in /usr/local/lib/python3.10/dist-packages (from nuscenes-devkit) (5.5.0)\n",
            "Requirement already satisfied: descartes in /usr/local/lib/python3.10/dist-packages (from nuscenes-devkit) (1.1.0)\n",
            "Requirement already satisfied: fire in /usr/local/lib/python3.10/dist-packages (from nuscenes-devkit) (0.7.0)\n",
            "Requirement already satisfied: matplotlib<3.6.0 in /usr/local/lib/python3.10/dist-packages (from nuscenes-devkit) (3.5.3)\n",
            "Requirement already satisfied: numpy>=1.22.0 in /usr/local/lib/python3.10/dist-packages (from nuscenes-devkit) (1.26.4)\n",
            "Requirement already satisfied: opencv-python>=4.5.4.58 in /usr/local/lib/python3.10/dist-packages (from nuscenes-devkit) (4.10.0.84)\n",
            "Requirement already satisfied: Pillow>6.2.1 in /usr/local/lib/python3.10/dist-packages (from nuscenes-devkit) (11.0.0)\n",
            "Requirement already satisfied: pyquaternion>=0.9.5 in /usr/local/lib/python3.10/dist-packages (from nuscenes-devkit) (0.9.9)\n",
            "Requirement already satisfied: scikit-learn in /usr/local/lib/python3.10/dist-packages (from nuscenes-devkit) (1.5.2)\n",
            "Requirement already satisfied: scipy in /usr/local/lib/python3.10/dist-packages (from nuscenes-devkit) (1.13.1)\n",
            "Requirement already satisfied: Shapely<2.0.0 in /usr/local/lib/python3.10/dist-packages (from nuscenes-devkit) (1.8.5.post1)\n",
            "Requirement already satisfied: tqdm in /usr/local/lib/python3.10/dist-packages (from nuscenes-devkit) (4.66.6)\n",
            "Requirement already satisfied: pycocotools>=2.0.1 in /usr/local/lib/python3.10/dist-packages (from nuscenes-devkit) (2.0.8)\n",
            "Requirement already satisfied: cycler>=0.10 in /usr/local/lib/python3.10/dist-packages (from matplotlib<3.6.0->nuscenes-devkit) (0.12.1)\n",
            "Requirement already satisfied: fonttools>=4.22.0 in /usr/local/lib/python3.10/dist-packages (from matplotlib<3.6.0->nuscenes-devkit) (4.54.1)\n",
            "Requirement already satisfied: kiwisolver>=1.0.1 in /usr/local/lib/python3.10/dist-packages (from matplotlib<3.6.0->nuscenes-devkit) (1.4.7)\n",
            "Requirement already satisfied: packaging>=20.0 in /usr/local/lib/python3.10/dist-packages (from matplotlib<3.6.0->nuscenes-devkit) (24.2)\n",
            "Requirement already satisfied: pyparsing>=2.2.1 in /usr/local/lib/python3.10/dist-packages (from matplotlib<3.6.0->nuscenes-devkit) (3.2.0)\n",
            "Requirement already satisfied: python-dateutil>=2.7 in /usr/local/lib/python3.10/dist-packages (from matplotlib<3.6.0->nuscenes-devkit) (2.8.2)\n",
            "Requirement already satisfied: termcolor in /usr/local/lib/python3.10/dist-packages (from fire->nuscenes-devkit) (2.5.0)\n",
            "Requirement already satisfied: joblib>=1.2.0 in /usr/local/lib/python3.10/dist-packages (from scikit-learn->nuscenes-devkit) (1.4.2)\n",
            "Requirement already satisfied: threadpoolctl>=3.1.0 in /usr/local/lib/python3.10/dist-packages (from scikit-learn->nuscenes-devkit) (3.5.0)\n",
            "Requirement already satisfied: six>=1.5 in /usr/local/lib/python3.10/dist-packages (from python-dateutil>=2.7->matplotlib<3.6.0->nuscenes-devkit) (1.16.0)\n"
          ]
        }
      ]
    },
    {
      "cell_type": "code",
      "source": [
        "!pip install gym[all]"
      ],
      "metadata": {
        "colab": {
          "base_uri": "https://localhost:8080/"
        },
        "id": "WKVLk_fvs5jP",
        "outputId": "81cb29bd-7611-47fc-da4b-884f48e1fb66"
      },
      "execution_count": null,
      "outputs": [
        {
          "output_type": "stream",
          "name": "stdout",
          "text": [
            "Requirement already satisfied: gym[all] in /usr/local/lib/python3.10/dist-packages (0.25.2)\n",
            "Requirement already satisfied: numpy>=1.18.0 in /usr/local/lib/python3.10/dist-packages (from gym[all]) (1.26.4)\n",
            "Requirement already satisfied: cloudpickle>=1.2.0 in /usr/local/lib/python3.10/dist-packages (from gym[all]) (3.1.0)\n",
            "Requirement already satisfied: gym-notices>=0.0.4 in /usr/local/lib/python3.10/dist-packages (from gym[all]) (0.0.8)\n",
            "Collecting mujoco==2.2.0 (from gym[all])\n",
            "  Downloading mujoco-2.2.0-cp310-cp310-manylinux_2_17_x86_64.manylinux2014_x86_64.whl.metadata (35 kB)\n",
            "Requirement already satisfied: matplotlib>=3.0 in /usr/local/lib/python3.10/dist-packages (from gym[all]) (3.5.3)\n",
            "Collecting box2d-py==2.3.5 (from gym[all])\n",
            "  Downloading box2d-py-2.3.5.tar.gz (374 kB)\n",
            "\u001b[2K     \u001b[90m━━━━━━━━━━━━━━━━━━━━━━━━━━━━━━━━━━━━━━━━\u001b[0m \u001b[32m374.4/374.4 kB\u001b[0m \u001b[31m6.2 MB/s\u001b[0m eta \u001b[36m0:00:00\u001b[0m\n",
            "\u001b[?25h  Preparing metadata (setup.py) ... \u001b[?25l\u001b[?25hdone\n",
            "Collecting ale-py~=0.7.5 (from gym[all])\n",
            "  Downloading ale_py-0.7.5-cp310-cp310-manylinux_2_17_x86_64.manylinux2014_x86_64.whl.metadata (8.1 kB)\n",
            "Collecting pytest==7.0.1 (from gym[all])\n",
            "  Downloading pytest-7.0.1-py3-none-any.whl.metadata (7.8 kB)\n",
            "Requirement already satisfied: opencv-python>=3.0 in /usr/local/lib/python3.10/dist-packages (from gym[all]) (4.10.0.84)\n",
            "Collecting pygame==2.1.0 (from gym[all])\n",
            "  Downloading pygame-2.1.0-cp310-cp310-manylinux_2_17_x86_64.manylinux2014_x86_64.whl.metadata (9.5 kB)\n",
            "Collecting lz4>=3.1.0 (from gym[all])\n",
            "  Downloading lz4-4.3.3-cp310-cp310-manylinux_2_17_x86_64.manylinux2014_x86_64.whl.metadata (3.7 kB)\n",
            "Collecting mujoco-py<2.2,>=2.1 (from gym[all])\n",
            "  Downloading mujoco_py-2.1.2.14-py3-none-any.whl.metadata (669 bytes)\n",
            "Requirement already satisfied: imageio>=2.14.1 in /usr/local/lib/python3.10/dist-packages (from gym[all]) (2.36.0)\n",
            "Collecting swig==4.* (from gym[all])\n",
            "  Downloading swig-4.2.1.post0-py2.py3-none-manylinux_2_5_x86_64.manylinux1_x86_64.whl.metadata (3.5 kB)\n",
            "Requirement already satisfied: absl-py in /usr/local/lib/python3.10/dist-packages (from mujoco==2.2.0->gym[all]) (1.4.0)\n",
            "Collecting glfw (from mujoco==2.2.0->gym[all])\n",
            "  Downloading glfw-2.7.0-py2.py27.py3.py30.py31.py32.py33.py34.py35.py36.py37.py38-none-manylinux2014_x86_64.whl.metadata (5.4 kB)\n",
            "Requirement already satisfied: pyopengl in /usr/local/lib/python3.10/dist-packages (from mujoco==2.2.0->gym[all]) (3.1.7)\n",
            "Requirement already satisfied: attrs>=19.2.0 in /usr/local/lib/python3.10/dist-packages (from pytest==7.0.1->gym[all]) (24.2.0)\n",
            "Requirement already satisfied: iniconfig in /usr/local/lib/python3.10/dist-packages (from pytest==7.0.1->gym[all]) (2.0.0)\n",
            "Requirement already satisfied: packaging in /usr/local/lib/python3.10/dist-packages (from pytest==7.0.1->gym[all]) (24.2)\n",
            "Requirement already satisfied: pluggy<2.0,>=0.12 in /usr/local/lib/python3.10/dist-packages (from pytest==7.0.1->gym[all]) (1.5.0)\n",
            "Collecting py>=1.8.2 (from pytest==7.0.1->gym[all])\n",
            "  Downloading py-1.11.0-py2.py3-none-any.whl.metadata (2.8 kB)\n",
            "Requirement already satisfied: tomli>=1.0.0 in /usr/local/lib/python3.10/dist-packages (from pytest==7.0.1->gym[all]) (2.1.0)\n",
            "Requirement already satisfied: importlib-resources in /usr/local/lib/python3.10/dist-packages (from ale-py~=0.7.5->gym[all]) (6.4.5)\n",
            "Requirement already satisfied: pillow>=8.3.2 in /usr/local/lib/python3.10/dist-packages (from imageio>=2.14.1->gym[all]) (11.0.0)\n",
            "Requirement already satisfied: cycler>=0.10 in /usr/local/lib/python3.10/dist-packages (from matplotlib>=3.0->gym[all]) (0.12.1)\n",
            "Requirement already satisfied: fonttools>=4.22.0 in /usr/local/lib/python3.10/dist-packages (from matplotlib>=3.0->gym[all]) (4.54.1)\n",
            "Requirement already satisfied: kiwisolver>=1.0.1 in /usr/local/lib/python3.10/dist-packages (from matplotlib>=3.0->gym[all]) (1.4.7)\n",
            "Requirement already satisfied: pyparsing>=2.2.1 in /usr/local/lib/python3.10/dist-packages (from matplotlib>=3.0->gym[all]) (3.2.0)\n",
            "Requirement already satisfied: python-dateutil>=2.7 in /usr/local/lib/python3.10/dist-packages (from matplotlib>=3.0->gym[all]) (2.8.2)\n",
            "Requirement already satisfied: Cython>=0.27.2 in /usr/local/lib/python3.10/dist-packages (from mujoco-py<2.2,>=2.1->gym[all]) (3.0.11)\n",
            "Requirement already satisfied: cffi>=1.10 in /usr/local/lib/python3.10/dist-packages (from mujoco-py<2.2,>=2.1->gym[all]) (1.17.1)\n",
            "Collecting fasteners~=0.15 (from mujoco-py<2.2,>=2.1->gym[all])\n",
            "  Downloading fasteners-0.19-py3-none-any.whl.metadata (4.9 kB)\n",
            "Requirement already satisfied: pycparser in /usr/local/lib/python3.10/dist-packages (from cffi>=1.10->mujoco-py<2.2,>=2.1->gym[all]) (2.22)\n",
            "Requirement already satisfied: six>=1.5 in /usr/local/lib/python3.10/dist-packages (from python-dateutil>=2.7->matplotlib>=3.0->gym[all]) (1.16.0)\n",
            "Downloading mujoco-2.2.0-cp310-cp310-manylinux_2_17_x86_64.manylinux2014_x86_64.whl (3.6 MB)\n",
            "\u001b[2K   \u001b[90m━━━━━━━━━━━━━━━━━━━━━━━━━━━━━━━━━━━━━━━━\u001b[0m \u001b[32m3.6/3.6 MB\u001b[0m \u001b[31m38.6 MB/s\u001b[0m eta \u001b[36m0:00:00\u001b[0m\n",
            "\u001b[?25hDownloading pygame-2.1.0-cp310-cp310-manylinux_2_17_x86_64.manylinux2014_x86_64.whl (18.3 MB)\n",
            "\u001b[2K   \u001b[90m━━━━━━━━━━━━━━━━━━━━━━━━━━━━━━━━━━━━━━━━\u001b[0m \u001b[32m18.3/18.3 MB\u001b[0m \u001b[31m37.2 MB/s\u001b[0m eta \u001b[36m0:00:00\u001b[0m\n",
            "\u001b[?25hDownloading pytest-7.0.1-py3-none-any.whl (296 kB)\n",
            "\u001b[2K   \u001b[90m━━━━━━━━━━━━━━━━━━━━━━━━━━━━━━━━━━━━━━━━\u001b[0m \u001b[32m297.0/297.0 kB\u001b[0m \u001b[31m15.0 MB/s\u001b[0m eta \u001b[36m0:00:00\u001b[0m\n",
            "\u001b[?25hDownloading swig-4.2.1.post0-py2.py3-none-manylinux_2_5_x86_64.manylinux1_x86_64.whl (1.8 MB)\n",
            "\u001b[2K   \u001b[90m━━━━━━━━━━━━━━━━━━━━━━━━━━━━━━━━━━━━━━━━\u001b[0m \u001b[32m1.8/1.8 MB\u001b[0m \u001b[31m40.5 MB/s\u001b[0m eta \u001b[36m0:00:00\u001b[0m\n",
            "\u001b[?25hDownloading ale_py-0.7.5-cp310-cp310-manylinux_2_17_x86_64.manylinux2014_x86_64.whl (1.6 MB)\n",
            "\u001b[2K   \u001b[90m━━━━━━━━━━━━━━━━━━━━━━━━━━━━━━━━━━━━━━━━\u001b[0m \u001b[32m1.6/1.6 MB\u001b[0m \u001b[31m13.5 MB/s\u001b[0m eta \u001b[36m0:00:00\u001b[0m\n",
            "\u001b[?25hDownloading lz4-4.3.3-cp310-cp310-manylinux_2_17_x86_64.manylinux2014_x86_64.whl (1.3 MB)\n",
            "\u001b[2K   \u001b[90m━━━━━━━━━━━━━━━━━━━━━━━━━━━━━━━━━━━━━━━━\u001b[0m \u001b[32m1.3/1.3 MB\u001b[0m \u001b[31m32.4 MB/s\u001b[0m eta \u001b[36m0:00:00\u001b[0m\n",
            "\u001b[?25hDownloading mujoco_py-2.1.2.14-py3-none-any.whl (2.4 MB)\n",
            "\u001b[2K   \u001b[90m━━━━━━━━━━━━━━━━━━━━━━━━━━━━━━━━━━━━━━━━\u001b[0m \u001b[32m2.4/2.4 MB\u001b[0m \u001b[31m41.4 MB/s\u001b[0m eta \u001b[36m0:00:00\u001b[0m\n",
            "\u001b[?25hDownloading fasteners-0.19-py3-none-any.whl (18 kB)\n",
            "Downloading glfw-2.7.0-py2.py27.py3.py30.py31.py32.py33.py34.py35.py36.py37.py38-none-manylinux2014_x86_64.whl (211 kB)\n",
            "\u001b[2K   \u001b[90m━━━━━━━━━━━━━━━━━━━━━━━━━━━━━━━━━━━━━━━━\u001b[0m \u001b[32m211.8/211.8 kB\u001b[0m \u001b[31m10.6 MB/s\u001b[0m eta \u001b[36m0:00:00\u001b[0m\n",
            "\u001b[?25hDownloading py-1.11.0-py2.py3-none-any.whl (98 kB)\n",
            "\u001b[2K   \u001b[90m━━━━━━━━━━━━━━━━━━━━━━━━━━━━━━━━━━━━━━━━\u001b[0m \u001b[32m98.7/98.7 kB\u001b[0m \u001b[31m5.5 MB/s\u001b[0m eta \u001b[36m0:00:00\u001b[0m\n",
            "\u001b[?25hBuilding wheels for collected packages: box2d-py\n",
            "  \u001b[1;31merror\u001b[0m: \u001b[1msubprocess-exited-with-error\u001b[0m\n",
            "  \n",
            "  \u001b[31m×\u001b[0m \u001b[32mpython setup.py bdist_wheel\u001b[0m did not run successfully.\n",
            "  \u001b[31m│\u001b[0m exit code: \u001b[1;36m1\u001b[0m\n",
            "  \u001b[31m╰─>\u001b[0m See above for output.\n",
            "  \n",
            "  \u001b[1;35mnote\u001b[0m: This error originates from a subprocess, and is likely not a problem with pip.\n",
            "  Building wheel for box2d-py (setup.py) ... \u001b[?25lerror\n",
            "\u001b[31m  ERROR: Failed building wheel for box2d-py\u001b[0m\u001b[31m\n",
            "\u001b[0m\u001b[?25h  Running setup.py clean for box2d-py\n",
            "Failed to build box2d-py\n",
            "\u001b[31mERROR: ERROR: Failed to build installable wheels for some pyproject.toml based projects (box2d-py)\u001b[0m\u001b[31m\n",
            "\u001b[0m"
          ]
        }
      ]
    },
    {
      "cell_type": "code",
      "source": [
        "import gym\n",
        "from gym import spaces\n",
        "import numpy as np\n",
        "from nuscenes.nuscenes import NuScenes\n",
        "from nuscenes.utils.data_classes import LidarPointCloud\n",
        "\n",
        "class NuScenesEnv(gym.Env):\n",
        "    def __init__(self, version='v1.0-mini', dataroot='/data/sets/nuscenes', max_steps=50):\n",
        "        super(NuScenesEnv, self).__init__()\n",
        "        self.nusc = NuScenes(version=version, dataroot=dataroot, verbose=False)\n",
        "        self.max_steps = max_steps\n",
        "\n",
        "        # Define action space (e.g., discrete actions for navigation)\n",
        "        self.action_space = spaces.Discrete(4)  # ['Move Forward', 'Turn Left', 'Turn Right', 'Stop']\n",
        "\n",
        "        # Define observation space (e.g., lidar + camera features)\n",
        "        self.observation_space = spaces.Box(low=0, high=255, shape=(64, 64, 3), dtype=np.uint8)  # Example for RGB images\n",
        "\n",
        "        # Initialize environment variables\n",
        "        self.current_scene = None\n",
        "        self.current_sample_token = None\n",
        "        self.steps = 0\n",
        "\n",
        "    def reset(self):\n",
        "        # Reset the environment to the start of a random scene\n",
        "        self.current_scene = np.random.choice(self.nusc.scene)\n",
        "        self.current_sample_token = self.current_scene['first_sample_token']\n",
        "        self.steps = 0\n",
        "\n",
        "        # Get the initial observation\n",
        "        state = self._get_observation(self.current_sample_token)\n",
        "        return state\n",
        "\n",
        "    def step(self, action):\n",
        "        # Apply action and update the state\n",
        "        self.current_sample_token = self._next_sample(self.current_sample_token, action)\n",
        "        state = self._get_observation(self.current_sample_token)\n",
        "\n",
        "        # Compute reward and check for termination\n",
        "        reward, done = self._compute_reward_and_done(self.current_sample_token)\n",
        "        self.steps += 1\n",
        "        if self.steps >= self.max_steps:\n",
        "            done = True\n",
        "\n",
        "        return state, reward, done, {}\n",
        "\n",
        "    def _get_observation(self, sample_token):\n",
        "        # Extract observation data (e.g., camera image or lidar points)\n",
        "        sample = self.nusc.get('sample', sample_token)\n",
        "        sample_data = self.nusc.get('sample_data', sample['data']['CAM_FRONT'])\n",
        "        image_path = self.nusc.get_sample_data_path(sample_data['token'])\n",
        "        image = np.zeros((64, 64, 3))  # Placeholder: Replace with image loading and preprocessing\n",
        "        return image\n",
        "\n",
        "    def _next_sample(self, sample_token, action):\n",
        "        # Navigate to the next sample token based on action\n",
        "        sample = self.nusc.get('sample', sample_token)\n",
        "        if action == 0:  # Move Forward\n",
        "            return sample['next'] if sample['next'] else sample_token\n",
        "        elif action in [1, 2]:  # Turn Left or Right\n",
        "            # Logic for turning based on action\n",
        "            return sample['next'] if sample['next'] else sample_token\n",
        "        elif action == 3:  # Stop\n",
        "            return sample_token\n",
        "        return sample_token\n",
        "\n",
        "    def _compute_reward_and_done(self, sample_token):\n",
        "        # Compute reward and termination condition\n",
        "        reward = 1  # Placeholder reward logic\n",
        "        done = False  # Placeholder termination logic\n",
        "        return reward, done\n"
      ],
      "metadata": {
        "id": "jTZBTQ27tgex"
      },
      "execution_count": null,
      "outputs": []
    },
    {
      "cell_type": "code",
      "source": [
        "env = NuScenesEnv()\n",
        "state = env.reset()\n",
        "\n",
        "for _ in range(10):\n",
        "    action = env.action_space.sample()  # Random action\n",
        "    next_state, reward, done, info = env.step(action)\n",
        "    if done:\n",
        "        break\n",
        "\n",
        "print(\"Test run completed.\")\n"
      ],
      "metadata": {
        "colab": {
          "base_uri": "https://localhost:8080/"
        },
        "id": "9DGfesZEys09",
        "outputId": "a8a66c7d-bc9e-402e-f95d-215abd368eaa"
      },
      "execution_count": null,
      "outputs": [
        {
          "output_type": "stream",
          "name": "stdout",
          "text": [
            "Test run completed.\n"
          ]
        }
      ]
    }
  ],
  "metadata": {
    "colab": {
      "provenance": []
    },
    "kernelspec": {
      "display_name": "Python 3",
      "name": "python3"
    },
    "language_info": {
      "name": "python"
    }
  },
  "nbformat": 4,
  "nbformat_minor": 0
}